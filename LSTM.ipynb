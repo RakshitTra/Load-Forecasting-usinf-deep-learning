{
  "nbformat": 4,
  "nbformat_minor": 0,
  "metadata": {
    "colab": {
      "name": "l2.ipynb",
      "provenance": [],
      "mount_file_id": "1OugM91RDaxcc6Xd3kyzNPMTAKkVSqXyY",
      "authorship_tag": "ABX9TyM7M15N6+/xNo4yri7Lb680",
      "include_colab_link": true
    },
    "kernelspec": {
      "name": "python3",
      "display_name": "Python 3"
    },
    "accelerator": "GPU"
  },
  "cells": [
    {
      "cell_type": "markdown",
      "metadata": {
        "id": "view-in-github",
        "colab_type": "text"
      },
      "source": [
        "<a href=\"https://colab.research.google.com/github/RakshitTra/Load-Forecasting-using-deep-learning/blob/master/LSTM.ipynb\" target=\"_parent\"><img src=\"https://colab.research.google.com/assets/colab-badge.svg\" alt=\"Open In Colab\"/></a>"
      ]
    },
    {
      "cell_type": "code",
      "metadata": {
        "id": "3_2AoCEOQ5qv",
        "colab_type": "code",
        "colab": {
          "base_uri": "https://localhost:8080/",
          "height": 180
        },
        "outputId": "61551cdf-961e-401d-9028-a3d08184a3a8"
      },
      "source": [
        "from numpy import nan\n",
        "from numpy import isnan\n",
        "from pandas import read_csv\n",
        "from pandas import to_numeric\n",
        "\n",
        "# fill missing values with a value at the same time one day ago\n",
        "def fill_missing(values):\n",
        "\tone_day = 60 * 24\n",
        "\tfor row in range(values.shape[0]):\n",
        "\t\tfor col in range(values.shape[1]):\n",
        "\t\t\tif isnan(values[row, col]):\n",
        "\t\t\t\tvalues[row, col] = values[row - one_day, col]\n",
        "\n",
        "# load all data\n",
        "dataset = read_csv('/content/drive/My Drive/dataset/household_power_consumption.txt', sep=';', header=0, low_memory=False, infer_datetime_format=True, parse_dates={'datetime':[0,1]}, index_col=['datetime'])\n",
        "# mark all missing values\n",
        "dataset.replace('?', nan, inplace=True)\n",
        "# make dataset numeric\n",
        "dataset = dataset.astype('float32')\n",
        "# fill missing\n",
        "fill_missing(dataset.values)\n",
        "# add a column for for the remainder of sub metering\n",
        "values = dataset.values\n",
        "dataset['sub_metering_4'] = (values[:,0] * 1000 / 60) - (values[:,4] + values[:,5] + values[:,6])\n",
        "# save updated dataset\n",
        "dataset.to_csv('household_power_consumption.csv')\n",
        "\n",
        "\n",
        "\n",
        "daily_groups = dataset.resample('D')\n",
        "daily_data = daily_groups.sum()\n",
        "# summarize\n",
        "print(daily_data.shape)\n",
        "print(daily_data.head())\n",
        "# save\n",
        "daily_data.to_csv('/content/drive/My Drive/dataset/household_power_consumption_days.csv')"
      ],
      "execution_count": 1,
      "outputs": [
        {
          "output_type": "stream",
          "text": [
            "(1442, 8)\n",
            "            Global_active_power  ...  sub_metering_4\n",
            "datetime                         ...                \n",
            "2006-12-16          1209.176025  ...    14680.933594\n",
            "2006-12-17          3390.459961  ...    36946.667969\n",
            "2006-12-18          2203.825928  ...    19028.433594\n",
            "2006-12-19          1666.193970  ...    13131.900391\n",
            "2006-12-20          2225.748047  ...    20384.800781\n",
            "\n",
            "[5 rows x 8 columns]\n"
          ],
          "name": "stdout"
        }
      ]
    },
    {
      "cell_type": "code",
      "metadata": {
        "id": "HPdPlDIk4xEo",
        "colab_type": "code",
        "colab": {
          "base_uri": "https://localhost:8080/",
          "height": 33
        },
        "outputId": "1651b437-c2fe-4f1b-eacb-2ef1c8125caf"
      },
      "source": [
        "from math import sqrt\n",
        "from numpy import split\n",
        "from numpy import array\n",
        "import numpy as np\n",
        "from pandas import read_csv\n",
        "from sklearn.metrics import mean_squared_error\n",
        "from matplotlib import pyplot\n",
        "import matplotlib.pyplot as plt\n",
        "\n",
        "import pandas as pd\n",
        "import numpy as np\n",
        "from sklearn import preprocessing\n",
        "# from sklearn.cross_validation import KFold # use for cross validation\n",
        "from sklearn.preprocessing import StandardScaler # for normalization\n",
        "from sklearn.preprocessing import MinMaxScaler\n",
        "from sklearn.pipeline import Pipeline # pipeline making\n",
        "from sklearn.model_selection import cross_val_score\n",
        "from sklearn.feature_selection import SelectFromModel\n",
        "from sklearn import metrics # for the check the error and accuracy of the model\n",
        "from sklearn.metrics import mean_squared_error,r2_score\n",
        "\n",
        "## for Deep-learing:\n",
        "from keras.callbacks import ModelCheckpoint\n",
        "import keras\n",
        "from keras.layers import Dense\n",
        "from keras.models import Sequential\n",
        "from keras.utils import to_categorical\n",
        "from keras.optimizers import SGD \n",
        "from keras.callbacks import EarlyStopping\n",
        "from keras.utils import np_utils\n",
        "import itertools\n",
        "from keras.layers import LSTM\n",
        "from keras.layers.convolutional import Conv1D\n",
        "from keras.layers.convolutional import MaxPooling1D\n",
        "from keras.layers import Dropout"
      ],
      "execution_count": 2,
      "outputs": [
        {
          "output_type": "stream",
          "text": [
            "Using TensorFlow backend.\n"
          ],
          "name": "stderr"
        }
      ]
    },
    {
      "cell_type": "code",
      "metadata": {
        "id": "Cj8X_zqf3P6Q",
        "colab_type": "code",
        "colab": {}
      },
      "source": [
        "def split_dataset(data):\n",
        "  # split into standard weeks\n",
        "  last_year_hour=365*24\n",
        "  train, test = data[:-last_year_hour], data[-last_year_hour:]\n",
        "  # restructure into windows of weekly data\n",
        "  # train = array(split(train, len(train)/7))\n",
        "  # test = array(split(test, len(test)/7))\n",
        "  return train, test\n"
      ],
      "execution_count": 0,
      "outputs": []
    },
    {
      "cell_type": "code",
      "metadata": {
        "id": "FdhGvArH38t1",
        "colab_type": "code",
        "colab": {}
      },
      "source": [
        "def to_supervised(data, n_input, n_out=1):\n",
        "  # flatten data\n",
        "  #data = train.reshape((train.shape[0]*train.shape[1], train.shape[2]))\n",
        "  data=array(data)\n",
        "  X, y = list(), list()\n",
        "  in_start = 0\n",
        "  # step over the entire history one time step at a time\n",
        "  for _ in range(len(data)):\n",
        "    # define the end of the input sequence\n",
        "    in_end = in_start + n_input\n",
        "    out_end = in_end + n_out\n",
        "    # ensure we have enough data for this instance\n",
        "    if out_end <= len(data):\n",
        "      X.append(data[in_start:in_end, :])\n",
        "      y.append(data[in_end:out_end, 0])\n",
        "    # move along one time step\n",
        "    in_start += 1\n",
        "  return array(X), array(y)\n"
      ],
      "execution_count": 0,
      "outputs": []
    },
    {
      "cell_type": "markdown",
      "metadata": {
        "id": "yAGzbqHo4IIR",
        "colab_type": "text"
      },
      "source": [
        ""
      ]
    },
    {
      "cell_type": "code",
      "metadata": {
        "id": "zuSioaoC4Itj",
        "colab_type": "code",
        "colab": {}
      },
      "source": [
        "def Single_layer_lstm(train_X,train_y):\n",
        "  model = Sequential()\n",
        "  model.add(LSTM(120, input_shape=(train_X.shape[1], train_X.shape[2])))\n",
        "  model.add(Dropout(0.2))\n",
        "  #    model.add(LSTM(70))\n",
        "  #    model.add(Dropout(0.3))\n",
        "  model.add(Dense(1))\n",
        "  model.compile(loss='mean_squared_error', optimizer='adam')\n",
        "\n",
        "  filepath=\"/content/drive/My Drive/dataset/weights/weights-improvement-{epoch:02d}-{loss:.4f}.hdf5\"\n",
        "  checkpoint = ModelCheckpoint(filepath, monitor='loss', verbose=1, save_best_only=True, mode='min')\n",
        "  callbacks_list = [checkpoint]\n",
        "\n",
        "\n",
        "  # fit network\n",
        "  history = model.fit(train_X, train_y, epochs=150, batch_size=64,callbacks=callbacks_list, verbose=2, shuffle=False)\n",
        "  # filepath=\"/content/drive/My Drive/dataset/weights.best.hdf5\"\n",
        "  # checkpoint = ModelCheckpoint(filepath, monitor='val_accuracy', verbose=1, save_best_only=True, mode='max')\n",
        "  # callbacks_list = [checkpoint]\n",
        "\n",
        "  plt.plot(history.history['loss'])\n",
        "  # plt.plot(hitory.history['val_loss'])\n",
        "  plt.title('model loss')\n",
        "  plt.ylabel('loss')\n",
        "  plt.xlabel('epoch')\n",
        "  # plt.legend(['train', 'test'], loc='upper right')\n",
        "  plt.show()\n",
        "  return model\n"
      ],
      "execution_count": 0,
      "outputs": []
    },
    {
      "cell_type": "code",
      "metadata": {
        "id": "Z0KwNTTWg9cb",
        "colab_type": "code",
        "colab": {}
      },
      "source": [
        ""
      ],
      "execution_count": 0,
      "outputs": []
    },
    {
      "cell_type": "code",
      "metadata": {
        "id": "1umfAmgsg9H4",
        "colab_type": "code",
        "colab": {}
      },
      "source": [
        ""
      ],
      "execution_count": 0,
      "outputs": []
    },
    {
      "cell_type": "code",
      "metadata": {
        "id": "_ex0GD-y4do5",
        "colab_type": "code",
        "colab": {
          "base_uri": "https://localhost:8080/",
          "height": 397
        },
        "outputId": "630d6764-3ddf-4a92-ceb0-201dcf81e73c"
      },
      "source": [
        "dataset = read_csv('/content/drive/My Drive/dataset/household_power_consumption_hours.csv', header=0, infer_datetime_format=True, parse_dates=['datetime'], index_col=['datetime'])\n",
        "from numpy import array\n",
        "# split into train and test\n",
        "def graph(actual, predicted):\n",
        "  aa=[x for x in range(100)]\n",
        "  actual=np.ravel(actual)\n",
        "  predicted=np.ravel(predicted)\n",
        "  plt.plot(aa, actual[00:100], marker='.', label=\"actual\")\n",
        "  plt.plot(aa, predicted[00:100],'r', marker='.', label=\"prediction\")\n",
        "  plt.ylabel('Global_active_power', size=15)\n",
        "  plt.xlabel('Time step', size=15)  \n",
        "  plt.legend(fontsize=15)\n",
        "  # plt.show()\n",
        "  plt.savefig(\"/content/drive/My Drive/dataset/myfig3.png\")\n",
        "\n",
        "\n",
        "x = dataset.values #returns a numpy array\n",
        "scaler = preprocessing.MinMaxScaler()\n",
        "x_scaled = scaler.fit_transform(x)\n",
        "dataset = pd.DataFrame(x_scaled)\n",
        "\n",
        "n_input = 7*24\n",
        "X, Y = to_supervised(dataset.values,n_input)\n",
        "train_x,test_x=split_dataset(X)\n",
        "train_y,test_y=split_dataset(Y)\n",
        "print(X.shape)\n",
        "print(Y.shape)\n",
        "# train_y=np.ravel(train_y)#train_y.reshape(train_y.shape[0])\n",
        "print(train_x.shape)\n",
        "print(train_y.shape)\n",
        "print(test_x.shape)\n",
        "print(test_y.shape)\n",
        "# model1=Single_layer_lstm(train_x,train_y)\n",
        "# model1.save(\"/content/drive/My Drive/dataset/model200.h5\")\n",
        "\n",
        "# # load model\n",
        "from keras.models import load_model\n",
        "# model1.load_weights(\"/content/drive/My Drive/dataset/weights/weights-improvement-148-0.0033.hdf5\")\n",
        "\n",
        "model1 = load_model('/content/drive/My Drive/dataset/weights/weights-improvement-148-0.0033.hdf5')\n",
        "\n",
        "yhat = model1.predict(test_x)\n",
        "test_x = test_x[:,0,:].reshape((test_x.shape[0], 8))\n",
        "\n",
        "inv_yhat = np.concatenate((yhat, test_x[:, -7:]), axis=1)\n",
        "inv_yhat = scaler.inverse_transform(inv_yhat)\n",
        "inv_yhat = inv_yhat[:,0]\n",
        "# invert scaling for actual\n",
        "# test_y = test_y.reshape((len(test_y), 1))\n",
        "inv_y = np.concatenate((test_y, test_x[:, -7:]), axis=1)\n",
        "inv_y = scaler.inverse_transform(inv_y)\n",
        "test_y = inv_y[:,0]\n",
        "\n",
        "print(yhat.shape)\n",
        "graph(test_y,inv_yhat)\n"
      ],
      "execution_count": 16,
      "outputs": [
        {
          "output_type": "stream",
          "text": [
            "(34421, 168, 8)\n",
            "(34421, 1)\n",
            "(25661, 168, 8)\n",
            "(25661, 1)\n",
            "(8760, 168, 8)\n",
            "(8760, 1)\n",
            "(8760, 1)\n"
          ],
          "name": "stdout"
        },
        {
          "output_type": "display_data",
          "data": {
            "image/png": "[encoded data removed]",
            "text/plain": [
              "<Figure size 432x288 with 1 Axes>"
            ]
          },
          "metadata": {
            "tags": [],
            "needs_background": "light"
          }
        }
      ]
    },
    {
      "cell_type": "code",
      "metadata": {
        "id": "hNCe-19iIy2O",
        "colab_type": "code",
        "colab": {}
      },
      "source": [
        ""
      ],
      "execution_count": 0,
      "outputs": []
    }
  ]
}